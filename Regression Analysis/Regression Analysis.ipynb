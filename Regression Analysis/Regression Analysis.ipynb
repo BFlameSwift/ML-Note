{
 "cells": [
  {
   "cell_type": "markdown",
   "source": [
    "# 基于回归分析的大学综合得分预测\n",
    "---"
   ],
   "metadata": {}
  },
  {
   "cell_type": "markdown",
   "source": [
    "\r\n",
    "使用来自 Kaggle 的[数据](https://www.kaggle.com/mylesoneill/world-university-rankings?select=cwurData.csv)，构建「线性回归」模型，根据大学各项指标的排名预测综合得分。\r\n",
    "\r\n",
    "**基本：**\r\n",
    "* 按照 8:2 随机划分训练集测试集，用 RMSE 作为评价指标，得到测试集上线性回归模型的 RMSE 值；\r\n",
    "\r\n",
    "* 基本输入特征有 8 个：`quality_of_education`, `alumni_employment`, `quality_of_faculty`, `publications`, `influence`, `citations`, `broad_impact`, `patents`；\r\n",
    "* 预测目标为`score`；\r\n"
   ],
   "metadata": {}
  },
  {
   "cell_type": "markdown",
   "source": [
    "## 三、数据概览"
   ],
   "metadata": {}
  },
  {
   "cell_type": "markdown",
   "source": [
    "假设数据文件位于当前文件夹，使用 pandas 读入标准 csv 格式文件的函数`read_csv()`将数据转换为`DataFrame`的形式。观察前几条数据记录："
   ],
   "metadata": {}
  },
  {
   "cell_type": "code",
   "execution_count": 372,
   "source": [
    "import numpy as np\r\n",
    "import pandas as pd\r\n",
    "import math\r\n",
    "from sklearn.linear_model import LinearRegression\r\n",
    "import statsmodels.api as sm\r\n",
    "\r\n",
    "\r\n",
    "csv_data = \"./cwurData.csv\"\r\n",
    "raw_data = pd.read_csv(csv_data,sep=\",\")\r\n"
   ],
   "outputs": [],
   "metadata": {}
  },
  {
   "cell_type": "markdown",
   "source": [
    "去除其中包含 NaN 的数据，保留 2000 条有效记录。"
   ],
   "metadata": {}
  },
  {
   "cell_type": "code",
   "execution_count": 373,
   "source": [
    "raw_data = raw_data.dropna()\r\n",
    "len(raw_data)"
   ],
   "outputs": [
    {
     "output_type": "execute_result",
     "data": {
      "text/plain": [
       "2000"
      ]
     },
     "metadata": {},
     "execution_count": 373
    }
   ],
   "metadata": {}
  },
  {
   "cell_type": "markdown",
   "source": [
    "取出对应自变量以及因变量的列，之后就可以基于此切分训练集和测试集，并进行模型构建与分析。\n",
    "将数据转化为字典形式进行处理"
   ],
   "metadata": {}
  },
  {
   "cell_type": "code",
   "execution_count": 374,
   "source": [
    "coefficient = {}\r\n",
    "coefficient['education'] = []; coefficient['employment'] = [];coefficient['faculty'] = [];coefficient['publications'] = []\r\n",
    "coefficient['influence'] = [];coefficient['citations'] = [];coefficient['broad_impact'] = []; coefficient['patents'] = [];coefficient['school_name'] = []"
   ],
   "outputs": [],
   "metadata": {}
  },
  {
   "cell_type": "markdown",
   "source": [
    "## 四、模型构建"
   ],
   "metadata": {}
  },
  {
   "cell_type": "markdown",
   "source": [],
   "metadata": {}
  },
  {
   "cell_type": "code",
   "execution_count": 375,
   "source": [
    "data = np.array(raw_data)\r\n",
    "np.random.shuffle(data)\r\n",
    "num = 0\r\n",
    "print(\"自变量数目为：\",len(raw_data.columns))\r\n",
    "\r\n",
    "coefficient['education'] = np.array(data[:,4:5:1])\r\n",
    "\r\n",
    "attitude_colums  = ['education','employment','faculty','publications','influence','citations','broad_impact','patents']\r\n",
    "\r\n",
    "# for i in range(len(data)):\r\n",
    "for j in range(5,13,1):\r\n",
    "    coefficient[\"{}\".format(attitude_colums[j-5])] = np.concatenate(np.array(data[:,j-1:j:1]))\r\n",
    "score = np.concatenate(np.array(data[:,12:13]))\r\n",
    "\r\n",
    "\r\n",
    "# 划分测试集与训练集\r\n",
    "all_y = data[:,12]\r\n",
    "all_x = data[:,4:12]\r\n",
    "\r\n",
    "from sklearn.model_selection import train_test_split\r\n",
    "x_train, x_test, y_train, y_test = train_test_split(all_x,all_y,test_size=0.2,random_state=2021)\r\n",
    "\r\n",
    "\r\n",
    "md = LinearRegression().fit(x_train,y_train)\r\n",
    "y_predict = md.predict(x_test)\r\n",
    "b0 = md.intercept_\r\n",
    "b1_8 = md.coef_\r\n",
    "R2 = md.score(x_test,y_test)\r\n",
    "\r\n",
    "\r\n",
    "test_bias = y_predict-y_test\r\n",
    "test_rmse = math.sqrt(sum([i**2 for i in test_bias])/len(test_bias))\r\n",
    "\r\n"
   ],
   "outputs": [
    {
     "output_type": "stream",
     "name": "stdout",
     "text": [
      "自变量数目为： 14\n"
     ]
    }
   ],
   "metadata": {
    "pycharm": {
     "name": "#%%\n"
    }
   }
  },
  {
   "cell_type": "markdown",
   "source": [
    "输出相关系数$\\beta$、拟合优度与RMSE "
   ],
   "metadata": {}
  },
  {
   "cell_type": "code",
   "execution_count": 376,
   "source": [
    "print(\"相关系数beta \",b0,\",\".join(str(i) for i in b1_8))\r\n",
    "print(\"拟合优度 = \",R2)\r\n",
    "print(\"RMSE = \",test_rmse)"
   ],
   "outputs": [
    {
     "output_type": "stream",
     "name": "stdout",
     "text": [
      "相关系数beta  66.72914930313155 -0.006361263592363662,-0.0071732440644781655,-0.06810079393504376,0.0002659589665198179,0.0007902853420936684,-0.00026562310607122503,-0.002263208674985792,-0.002517410471768085\n",
      "拟合优度 =  0.37897527855240964\n",
      "RMSE =  2.8259342982745057\n"
     ]
    }
   ],
   "metadata": {}
  },
  {
   "cell_type": "markdown",
   "source": [
    "## 岭回归求解"
   ],
   "metadata": {}
  },
  {
   "cell_type": "markdown",
   "source": [
    "通过拟合优度的计算与RMSE的计算发现拟合效果一般，可知拟合效果较差与自变量间的共线性有关，于是对自变量进行正则化处理，进而使用岭回归进行求解"
   ],
   "metadata": {}
  },
  {
   "cell_type": "markdown",
   "source": [
    "导入岭回归所需库，以及创建一些参数"
   ],
   "metadata": {}
  },
  {
   "cell_type": "code",
   "execution_count": 377,
   "source": [
    "import matplotlib.pyplot as plt\r\n",
    "from sklearn.linear_model import Ridge,RidgeCV\r\n",
    "from scipy.stats import zscore\r\n",
    "\r\n",
    "b_ridge = []\r\n",
    "\r\n"
   ],
   "outputs": [],
   "metadata": {}
  },
  {
   "cell_type": "markdown",
   "source": [
    "调库对数据进行正则化处理得到标准化回归系数，而后求出岭回归的回归系数"
   ],
   "metadata": {}
  },
  {
   "cell_type": "code",
   "execution_count": 378,
   "source": [
    "kk = np.logspace(-4,10,100)\r\n",
    "for k in kk:\r\n",
    "    md_ridge = Ridge(alpha=k).fit(x_train,y_train)\r\n",
    "    b_ridge.append(md_ridge.coef_)\r\n",
    "\r\n",
    "md_ridge_cv = RidgeCV(alphas=np.logspace(-4,10,100)).fit(x_train,y_train)\r\n",
    "print(\"最优alpha = \",md_ridge_cv.alpha_)\r\n",
    "\r\n",
    "md_ridge_0 = Ridge(0.4).fit(x_test,y_test)\r\n",
    "cs0 = md_ridge_0.coef_\r\n",
    "print(\"标准化数据的回归系数为：\",cs0)\r\n",
    "mu=np.mean(data[:,4:13],axis=0); \r\n",
    "print(mu)\r\n",
    "s=np.std(data[:,4:13],dtype=np.float64, axis=0,ddof=1) #计算所有指标的均值和标准差\r\n",
    "params=[mu[-1]-s[-1]*sum(cs0*mu[:-1]/s[:-1]),s[-1]*cs0/s[:-1]]\r\n",
    "print(\"原数据的回归系数为：\",params)"
   ],
   "outputs": [
    {
     "output_type": "stream",
     "name": "stdout",
     "text": [
      "最优alpha =  15922.82793341094\n",
      "标准化数据的回归系数为： [-5.31102023e-03 -5.58457985e-03 -2.82183546e-02  7.85114160e-05\n",
      " -8.26608025e-04  2.55747936e-04 -2.52304652e-03 -1.55538986e-03]\n",
      "[296.0015 385.2635 191.1275 500.415 500.219 449.3415 496.6995 470.321\n",
      " 47.06762999999992]\n",
      "原数据的回归系数为： [47.978253574862144, array([-3.27523757e-04, -2.14138187e-04, -3.54890850e-03,  1.79241957e-06,\n",
      "       -1.88957068e-05,  6.73818041e-06, -5.79536218e-05, -3.94827912e-05])]\n"
     ]
    }
   ],
   "metadata": {
    "pycharm": {
     "name": "#%%\n"
    }
   }
  },
  {
   "cell_type": "markdown",
   "source": [
    "在测试集上评估岭回归训练数据"
   ],
   "metadata": {}
  },
  {
   "cell_type": "code",
   "execution_count": 379,
   "source": [
    "y_predict_ridge = md_ridge_0.predict(x_test)\r\n",
    "test_bias_ridge = y_predict_ridge-y_test\r\n",
    "test_rmse_ridge = math.sqrt(sum([i**2 for i in test_bias_ridge])/len(test_bias_ridge))\r\n",
    "\r\n",
    "\r\n",
    "\r\n",
    "\r\n",
    "print(\"处理后的拟合优度：\",md_ridge_0.score(x_test,y_test),\">处理前拟合优度\",R2)\r\n",
    "print(\"相关系数beta: \",\",\".join(str(i) for i in params))\r\n",
    "print(\"处理后RMSE = \",test_rmse_ridge,\"<处理前RMSE = \",test_rmse)\r\n",
    "#处理后RMSE =  2.1163977771613025 <处理前RMSE =  2.8259342982745057\r\n"
   ],
   "outputs": [
    {
     "output_type": "stream",
     "name": "stdout",
     "text": [
      "处理后的拟合优度： 0.6516792384631696 >处理前拟合优度 0.37897527855240964\n",
      "相关系数beta:  47.978253574862144,[-3.27523757e-04 -2.14138187e-04 -3.54890850e-03  1.79241957e-06\n",
      " -1.88957068e-05  6.73818041e-06 -5.79536218e-05 -3.94827912e-05]\n",
      "处理后RMSE =  2.1163977771613025 <处理前RMSE =  2.8259342982745057\n"
     ]
    }
   ],
   "metadata": {}
  },
  {
   "cell_type": "markdown",
   "source": [
    "使用岭回归对数据做拟合后发现拟合效果优于直接对数据进行线性拟合"
   ],
   "metadata": {}
  }
 ],
 "metadata": {
  "interpreter": {
   "hash": "5639b9cc1acb38d5fe7edb44b06032fc475899c48faf59cea07c12bab73f113b"
  },
  "kernelspec": {
   "name": "python3",
   "display_name": "Python 3.8.10 64-bit ('base': conda)"
  },
  "language_info": {
   "codemirror_mode": {
    "name": "ipython",
    "version": 3
   },
   "file_extension": ".py",
   "mimetype": "text/x-python",
   "name": "python",
   "nbconvert_exporter": "python",
   "pygments_lexer": "ipython3",
   "version": "3.8.10"
  }
 },
 "nbformat": 4,
 "nbformat_minor": 4
}